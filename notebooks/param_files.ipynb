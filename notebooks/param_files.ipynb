{
 "cells": [
  {
   "cell_type": "markdown",
   "metadata": {},
   "source": [
    "# Libraries"
   ]
  },
  {
   "cell_type": "code",
   "execution_count": 1,
   "metadata": {},
   "outputs": [],
   "source": [
    "from pathlib import Path\n",
    "import SimpleITK as sitk\n",
    "import numpy as np\n",
    "import matplotlib.pyplot as plt\n",
    "import shutil\n",
    "import pandas as pd"
   ]
  },
  {
   "cell_type": "code",
   "execution_count": 2,
   "metadata": {},
   "outputs": [
    {
     "name": "stdout",
     "output_type": "stream",
     "text": [
      "current directory is: /home/ricardino/Documents/MAIA/tercer_semestre/MIRA/final_project/MIRA_FINAL_PROJECT/notebooks\n"
     ]
    }
   ],
   "source": [
    "notebooks_path = Path.cwd()\n",
    "repo_path = notebooks_path.parent\n",
    "print(f'current directory is: {notebooks_path}')\n",
    "\n",
    "import utils_ric as utils\n",
    "from info import patient"
   ]
  },
  {
   "cell_type": "markdown",
   "metadata": {},
   "source": [
    "# MAIN"
   ]
  },
  {
   "cell_type": "markdown",
   "metadata": {},
   "source": [
    "## Parameter files"
   ]
  },
  {
   "cell_type": "markdown",
   "metadata": {},
   "source": [
    "The parameter files are the main component of the registration process. They contain all the information needed to perform the registration. The parameter files are written in a txt file according to the Elastix documentation."
   ]
  },
  {
   "cell_type": "code",
   "execution_count": 3,
   "metadata": {},
   "outputs": [],
   "source": [
    "def save_paramfile(elastixImageFilter, name):\n",
    "    \"\"\"given the elastixImageFilter and the name of the parameter file, save the parameter file in the data/parameterfiles folder\n",
    "\n",
    "    Args:\n",
    "        elastixImageFilter (obj): sitk object with parameters for registration\n",
    "        name (str): name to save parameter file\n",
    "    \"\"\"\n",
    "    param_vector = elastixImageFilter.GetParameterMap()\n",
    "    for i in range(len(param_vector)):\n",
    "        list_param = param_vector[i].items()\n",
    "        path_file = repo_path / 'data/parameterfiles' / f'{name}_{i}.txt'\n",
    "        with open(path_file, 'w') as f:\n",
    "            for line in list_param:\n",
    "                param_name = line[0]\n",
    "                param_value = line[1][0]\n",
    "                f.write(f'({param_name} \"{param_value}\")\\n') if not param_value.replace('.', '').isdigit() else f.write(f'({param_name} {param_value})\\n')"
   ]
  },
  {
   "cell_type": "code",
   "execution_count": 4,
   "metadata": {},
   "outputs": [],
   "source": [
    "#Image filter object\n",
    "elastixImageFilter = sitk.ElastixImageFilter()\n",
    "#Save dafualt parameter maps\n",
    "save_paramfile(elastixImageFilter, name='default')"
   ]
  }
 ],
 "metadata": {
  "kernelspec": {
   "display_name": "Python 3.9.12 ('mira_fp')",
   "language": "python",
   "name": "python3"
  },
  "language_info": {
   "codemirror_mode": {
    "name": "ipython",
    "version": 3
   },
   "file_extension": ".py",
   "mimetype": "text/x-python",
   "name": "python",
   "nbconvert_exporter": "python",
   "pygments_lexer": "ipython3",
   "version": "3.9.12 (main, Jun  1 2022, 11:38:51) \n[GCC 7.5.0]"
  },
  "orig_nbformat": 4,
  "vscode": {
   "interpreter": {
    "hash": "85578b7fbafd3ff9b09a6a114225334627c0f0be36d6f1b22316e101f5f3ab46"
   }
  }
 },
 "nbformat": 4,
 "nbformat_minor": 2
}
